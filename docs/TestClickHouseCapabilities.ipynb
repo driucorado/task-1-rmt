{
 "cells": [
  {
   "cell_type": "code",
   "execution_count": 6,
   "id": "06dfc2ff",
   "metadata": {},
   "outputs": [
    {
     "name": "stdout",
     "output_type": "stream",
     "text": [
      "[\u001b[34m2025-04-19T10:41:38.004+0200\u001b[0m] {\u001b[34mbase.py:\u001b[0m84} INFO\u001b[0m - Retrieving connection 'conn_analytic_db'\u001b[0m\n",
      "[\u001b[34m2025-04-19T10:41:38.005+0200\u001b[0m] {\u001b[34mclickhouse.py:\u001b[0m79} INFO\u001b[0m - show tables;\u001b[0m\n"
     ]
    },
    {
     "data": {
      "text/plain": [
       "[('dim_time',), ('fact_clicks',)]"
      ]
     },
     "execution_count": 6,
     "metadata": {},
     "output_type": "execute_result"
    }
   ],
   "source": [
    "from airflow import DAG\n",
    "from airflow.decorators import task\n",
    "from airflow.models import Param\n",
    "from airflow.providers.postgres.hooks.postgres import PostgresHook\n",
    "from airflow.providers.sqlite.hooks.sqlite import SqliteHook\n",
    "from airflow.providers.postgres.hooks.postgres import PostgresHook\n",
    "import numpy as np\n",
    "from airflow_clickhouse_plugin.hooks.clickhouse import ClickHouseHook\n",
    "from pendulum import datetime\n",
    "import requests\n",
    "import logging\n",
    "\n",
    "logger = logging.getLogger(__name__)\n",
    "logger.setLevel(logging.INFO)\n",
    "\n",
    "hook = ClickHouseHook(clickhouse_conn_id=\"conn_analytic_db\")\n",
    "hook.execute(\"show tables;\")\n"
   ]
  },
  {
   "cell_type": "code",
   "execution_count": null,
   "id": "cf9b77c3",
   "metadata": {},
   "outputs": [],
   "source": [
    "# from clickhouse_driver import Client\n",
    "\n",
    "# client = Client(host='localhost', port=9000)\n",
    "# result = client.execute('SELECT 1')\n",
    "\n",
    "import clickhouse_connect\n",
    "\n",
    "client = clickhouse_connect.get_client(host='localhost', port=8123)\n",
    "client.query('SELECT 1')\n"
   ]
  },
  {
   "cell_type": "code",
   "execution_count": null,
   "id": "05a9a5f4",
   "metadata": {},
   "outputs": [],
   "source": [
    "# Test Data Table Creation\n",
    "table_ = \"\"\"CREATE TABLE IF NOT EXISTS dim_time (\n",
    "    timestamp TIMESTAMP, \n",
    "    year UInt32, \n",
    "    month UInt32, \n",
    "    day UInt32, \n",
    "    weekday UInt32, \n",
    ")\n",
    "ENGINE = MergeTree()\n",
    "PRIMARY KEY (timestamp)\n",
    "\"\"\"\n",
    "hook.execute(table_)"
   ]
  },
  {
   "cell_type": "code",
   "execution_count": null,
   "id": "c318e36a",
   "metadata": {},
   "outputs": [],
   "source": [
    "hook.execute(\"SELECT * FROM analytic_db.fact_clicks\")"
   ]
  },
  {
   "cell_type": "code",
   "execution_count": 7,
   "id": "4295bf6d",
   "metadata": {},
   "outputs": [
    {
     "name": "stdout",
     "output_type": "stream",
     "text": [
      "[\u001b[34m2025-04-19T10:41:41.201+0200\u001b[0m] {\u001b[34mbase.py:\u001b[0m84} INFO\u001b[0m - Retrieving connection 'conn_production_db'\u001b[0m\n",
      "[\u001b[34m2025-04-19T10:41:41.218+0200\u001b[0m] {\u001b[34msql.py:\u001b[0m624} INFO\u001b[0m - Running statement: SELECT c.advertiser_id, c.id campaign_id, ci.created_at FROM campaign c join  clicks ci on c.id = ci.campaign_id, parameters: None\u001b[0m\n",
      "[\u001b[34m2025-04-19T10:41:41.230+0200\u001b[0m] {\u001b[34msql.py:\u001b[0m633} INFO\u001b[0m - Rows affected: 1200\u001b[0m\n",
      "[\u001b[34m2025-04-19T10:41:41.238+0200\u001b[0m] {\u001b[34mbase.py:\u001b[0m84} INFO\u001b[0m - Retrieving connection 'conn_analytic_db'\u001b[0m\n",
      "[\u001b[34m2025-04-19T10:41:41.238+0200\u001b[0m] {\u001b[34mclickhouse.py:\u001b[0m79} INFO\u001b[0m - INSERT INTO default.fact_clicks (advertiser_id, campaign_id, timestamp) VALUES with [(5, 15, datetime.datetime(2025, 4, 12, 6, 4, 50, 14036)), (5, 15, datetime.datetime(2025, 4, 9, 7, 23, 41, 165176)), (5, 15, datetime.datetime(2025, 4, 10, 23, 17, 42, 262153)), (5, 15, datetime.datetime(2025, 4, 10, 7, 40, 39, 288976)), (5, 15, datetime.datetime(2025, 4, 11, 3, 38, 54, 258502)), (5, 15, datetime.datetime(2025, 4, 11, 15, 24, 10, 578021)), (5, 15, datetime.datetime(2025, 4, 12, 11, 40, 56, 39368)), (5, 15, datetime.datetime(2025, 4, 10, 11, 8, 25, 550370)), (5, 15, datetime.datetime(2025, 4, 12, 12, 42, 45, 29068)), (5, 15, datetime.datetime(2025, 4, 16, 7, 20, 0, 295984)) … and 2 more parameters]\u001b[0m\n",
      "[\u001b[34m2025-04-19T10:41:41.255+0200\u001b[0m] {\u001b[34m1661972139.py:\u001b[0m18} INFO\u001b[0m - Inserted postgresql.12 rows into fact_clicks table.\u001b[0m\n"
     ]
    }
   ],
   "source": [
    "# Test Insertion into Clickhouse\n",
    "hook = PostgresHook(\"conn_production_db\")\n",
    "# Filter by Dates (daily?)\n",
    "results = hook.get_records(\"SELECT \" \\\n",
    "\"c.advertiser_id, \" \\\n",
    "\"c.id campaign_id, \" \\\n",
    "\"ci.created_at \" \\\n",
    "\"FROM campaign c join \" \\\n",
    "\" clicks ci on c.id = ci.campaign_id\")\n",
    "results\n",
    "\n",
    "hook = ClickHouseHook(clickhouse_conn_id=\"conn_analytic_db\")\n",
    "insert_query = f\"INSERT INTO default.fact_clicks (advertiser_id, campaign_id, timestamp) VALUES\"\n",
    "chunks = np.array_split(results, 100)  # Split into 100 chunks\n",
    "for chunk in chunks:\n",
    "    values = [(row[0], row[1], row[2]) for row in chunk]\n",
    "    result = hook.execute(insert_query, values)\n",
    "logger.info(f\"Inserted postgresql.{result} rows into fact_clicks table.\")\n",
    "\n"
   ]
  }
 ],
 "metadata": {
  "kernelspec": {
   "display_name": ".venv",
   "language": "python",
   "name": "python3"
  },
  "language_info": {
   "codemirror_mode": {
    "name": "ipython",
    "version": 3
   },
   "file_extension": ".py",
   "mimetype": "text/x-python",
   "name": "python",
   "nbconvert_exporter": "python",
   "pygments_lexer": "ipython3",
   "version": "3.12.3"
  }
 },
 "nbformat": 4,
 "nbformat_minor": 5
}
