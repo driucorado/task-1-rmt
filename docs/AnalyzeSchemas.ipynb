{
 "cells": [
  {
   "cell_type": "markdown",
   "id": "863c826e",
   "metadata": {},
   "source": [
    "# Current Data Schema Analysis"
   ]
  },
  {
   "cell_type": "code",
   "execution_count": 3,
   "id": "6ba93242-c6ae-46f7-9c74-fbc43b0219f9",
   "metadata": {},
   "outputs": [
    {
     "name": "stdout",
     "output_type": "stream",
     "text": [
      "[\u001b[34m2025-04-18T11:06:17.622+0200\u001b[0m] {\u001b[34mbase.py:\u001b[0m84} INFO\u001b[0m - Retrieving connection 'conn_production_db'\u001b[0m\n",
      "[\u001b[34m2025-04-18T11:06:17.646+0200\u001b[0m] {\u001b[34msql.py:\u001b[0m624} INFO\u001b[0m - Running statement: SELECT c.advertiser_id, c.id campaign_id, c.bid, c.budget, c.start_date, c.end_date, i.created_at FROM campaign c join  impressions i on c.id = i.campaign_id, parameters: None\u001b[0m\n",
      "[\u001b[34m2025-04-18T11:06:17.726+0200\u001b[0m] {\u001b[34msql.py:\u001b[0m633} INFO\u001b[0m - Rows affected: 15000\u001b[0m\n"
     ]
    },
    {
     "data": {
      "text/plain": [
       "(1,\n",
       " 1,\n",
       " Decimal('2.87'),\n",
       " Decimal('315.64'),\n",
       " datetime.date(2025, 4, 16),\n",
       " datetime.date(2025, 4, 24),\n",
       " datetime.datetime(2025, 4, 11, 13, 16, 12, 872350))"
      ]
     },
     "execution_count": 3,
     "metadata": {},
     "output_type": "execute_result"
    }
   ],
   "source": [
    "from airflow import DAG\n",
    "from airflow.decorators import task\n",
    "from airflow.models import Param\n",
    "from airflow.providers.postgres.hooks.postgres import PostgresHook\n",
    "from airflow.providers.sqlite.hooks.sqlite import SqliteHook\n",
    "from pendulum import datetime\n",
    "import requests\n",
    "import logging\n",
    "\n",
    "logger = logging.getLogger(__name__)\n",
    "logger.setLevel(logging.INFO)\n",
    "\n",
    "hook = PostgresHook(\"conn_production_db\")"
   ]
  },
  {
   "cell_type": "markdown",
   "id": "a3cd8d2e",
   "metadata": {},
   "source": [
    "## SQL Fact Table Impressions"
   ]
  },
  {
   "cell_type": "code",
   "execution_count": null,
   "id": "b91c0d6a",
   "metadata": {},
   "outputs": [],
   "source": [
    "\n",
    "# Impression\n",
    "results = hook.get_records(\"SELECT \" \\\n",
    "    \"c.advertiser_id, \" \\\n",
    "    \"c.id campaign_id, \" \\\n",
    "    \"c.bid, c.budget, \" \\\n",
    "    \"c.start_date, \" \\\n",
    "    \"c.end_date, i.created_at \" \\\n",
    "    \"FROM campaign c join  impressions i on c.id = i.campaign_id\")\n",
    "\n",
    "results[0]"
   ]
  },
  {
   "cell_type": "markdown",
   "id": "b18f8631",
   "metadata": {},
   "source": [
    "## SQL Fact Table Clicks"
   ]
  },
  {
   "cell_type": "code",
   "execution_count": 2,
   "id": "aa2ddd85",
   "metadata": {},
   "outputs": [
    {
     "name": "stdout",
     "output_type": "stream",
     "text": [
      "[\u001b[34m2025-04-18T11:06:15.868+0200\u001b[0m] {\u001b[34msql.py:\u001b[0m624} INFO\u001b[0m - Running statement: SELECT c.advertiser_id, c.id campaign_id, ci.created_at FROM campaign c join  clicks ci on c.id = ci.campaign_id, parameters: None\u001b[0m\n",
      "[\u001b[34m2025-04-18T11:06:15.878+0200\u001b[0m] {\u001b[34msql.py:\u001b[0m633} INFO\u001b[0m - Rows affected: 1200\u001b[0m\n"
     ]
    },
    {
     "data": {
      "text/plain": [
       "(1, 1, datetime.datetime(2025, 4, 14, 23, 13, 22, 593695))"
      ]
     },
     "execution_count": 2,
     "metadata": {},
     "output_type": "execute_result"
    }
   ],
   "source": [
    "results = hook.get_records(\"SELECT \" \\\n",
    "    \"c.advertiser_id, \" \\\n",
    "    \"c.id campaign_id, \" \\\n",
    "    \"ci.created_at \" \\\n",
    "    \"FROM campaign c join \" \\\n",
    "    \" clicks ci on c.id = ci.campaign_id\")\n",
    "\n",
    "results[0]"
   ]
  }
 ],
 "metadata": {
  "kernelspec": {
   "display_name": ".venv",
   "language": "python",
   "name": "python3"
  },
  "language_info": {
   "codemirror_mode": {
    "name": "ipython",
    "version": 3
   },
   "file_extension": ".py",
   "mimetype": "text/x-python",
   "name": "python",
   "nbconvert_exporter": "python",
   "pygments_lexer": "ipython3",
   "version": "3.12.3"
  }
 },
 "nbformat": 4,
 "nbformat_minor": 5
}
